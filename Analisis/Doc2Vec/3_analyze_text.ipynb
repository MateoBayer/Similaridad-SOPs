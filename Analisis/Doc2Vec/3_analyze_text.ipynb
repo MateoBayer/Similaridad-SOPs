{
 "cells": [
  {
   "cell_type": "code",
   "execution_count": 1,
   "metadata": {},
   "outputs": [],
   "source": [
    "import pandas as pd\n",
    "import numpy as np\n",
    "import matplotlib.pyplot as plt\n",
    "from sklearn.decomposition import PCA\n",
    "from sklearn.manifold import TSNE\n",
    "\n",
    "def get_sim(x, y):\n",
    "    \"Get pairwise similarity normed to 1. Note that similarity can be negative.\"\n",
    "    norm_x = np.linalg.norm(x)\n",
    "    norm_y = np.linalg.norm(y)\n",
    "    return (x @ y) / (norm_x * norm_y)\n",
    "\n",
    "df = pd.read_csv('df_files03.csv')\n",
    "X = df[[col for col in df.columns if col[0] == 'v']].values"
   ]
  },
  {
   "cell_type": "code",
   "execution_count": 2,
   "metadata": {},
   "outputs": [
    {
     "name": "stderr",
     "output_type": "stream",
     "text": [
      "c:\\Users\\GPKYR\\AppData\\Local\\Programs\\Python\\Python312\\Lib\\site-packages\\joblib\\externals\\loky\\backend\\context.py:136: UserWarning: Could not find the number of physical cores for the following reason:\n",
      "found 0 physical cores < 1\n",
      "Returning the number of logical cores instead. You can silence this warning by setting LOKY_MAX_CPU_COUNT to the number of cores you want to use.\n",
      "  warnings.warn(\n",
      "  File \"c:\\Users\\GPKYR\\AppData\\Local\\Programs\\Python\\Python312\\Lib\\site-packages\\joblib\\externals\\loky\\backend\\context.py\", line 282, in _count_physical_cores\n",
      "    raise ValueError(f\"found {cpu_count_physical} physical cores < 1\")\n"
     ]
    },
    {
     "data": {
      "application/vnd.plotly.v1+json": {
       "config": {
        "plotlyServerURL": "https://plot.ly"
       },
       "data": [
        {
         "hovertemplate": "<b>%{hovertext}</b><br><br>label=SOP<br>Dimension 1=%{x}<br>Dimension 2=%{y}<extra></extra>",
         "hovertext": [
          "Anexo T.03.03 - 80059353 MIRISTATO DE ISOPROPILO",
          "Anexo T.03.03 - 80770359 ALCOHOL ISOPROPILICO",
          "T.03.03 - 80770359 ALCOHOL ISOPROPILICO"
         ],
         "legendgroup": "SOP",
         "marker": {
          "color": "#EF553B",
          "line": {
           "color": "black",
           "width": 1
          },
          "opacity": 0.7,
          "size": 10,
          "symbol": "circle"
         },
         "mode": "markers",
         "name": "SOP",
         "orientation": "v",
         "showlegend": true,
         "type": "scatter",
         "x": [
          -23.503496170043945,
          -23.503496170043945,
          4.587808132171631
         ],
         "xaxis": "x",
         "y": [
          -1.1304875612258911,
          -1.1304875612258911,
          19.764549255371094
         ],
         "yaxis": "y"
        }
       ],
       "layout": {
        "legend": {
         "title": {
          "text": "Labels"
         },
         "tracegroupgap": 0
        },
        "template": {
         "data": {
          "bar": [
           {
            "error_x": {
             "color": "#2a3f5f"
            },
            "error_y": {
             "color": "#2a3f5f"
            },
            "marker": {
             "line": {
              "color": "#E5ECF6",
              "width": 0.5
             },
             "pattern": {
              "fillmode": "overlay",
              "size": 10,
              "solidity": 0.2
             }
            },
            "type": "bar"
           }
          ],
          "barpolar": [
           {
            "marker": {
             "line": {
              "color": "#E5ECF6",
              "width": 0.5
             },
             "pattern": {
              "fillmode": "overlay",
              "size": 10,
              "solidity": 0.2
             }
            },
            "type": "barpolar"
           }
          ],
          "carpet": [
           {
            "aaxis": {
             "endlinecolor": "#2a3f5f",
             "gridcolor": "white",
             "linecolor": "white",
             "minorgridcolor": "white",
             "startlinecolor": "#2a3f5f"
            },
            "baxis": {
             "endlinecolor": "#2a3f5f",
             "gridcolor": "white",
             "linecolor": "white",
             "minorgridcolor": "white",
             "startlinecolor": "#2a3f5f"
            },
            "type": "carpet"
           }
          ],
          "choropleth": [
           {
            "colorbar": {
             "outlinewidth": 0,
             "ticks": ""
            },
            "type": "choropleth"
           }
          ],
          "contour": [
           {
            "colorbar": {
             "outlinewidth": 0,
             "ticks": ""
            },
            "colorscale": [
             [
              0,
              "#0d0887"
             ],
             [
              0.1111111111111111,
              "#46039f"
             ],
             [
              0.2222222222222222,
              "#7201a8"
             ],
             [
              0.3333333333333333,
              "#9c179e"
             ],
             [
              0.4444444444444444,
              "#bd3786"
             ],
             [
              0.5555555555555556,
              "#d8576b"
             ],
             [
              0.6666666666666666,
              "#ed7953"
             ],
             [
              0.7777777777777778,
              "#fb9f3a"
             ],
             [
              0.8888888888888888,
              "#fdca26"
             ],
             [
              1,
              "#f0f921"
             ]
            ],
            "type": "contour"
           }
          ],
          "contourcarpet": [
           {
            "colorbar": {
             "outlinewidth": 0,
             "ticks": ""
            },
            "type": "contourcarpet"
           }
          ],
          "heatmap": [
           {
            "colorbar": {
             "outlinewidth": 0,
             "ticks": ""
            },
            "colorscale": [
             [
              0,
              "#0d0887"
             ],
             [
              0.1111111111111111,
              "#46039f"
             ],
             [
              0.2222222222222222,
              "#7201a8"
             ],
             [
              0.3333333333333333,
              "#9c179e"
             ],
             [
              0.4444444444444444,
              "#bd3786"
             ],
             [
              0.5555555555555556,
              "#d8576b"
             ],
             [
              0.6666666666666666,
              "#ed7953"
             ],
             [
              0.7777777777777778,
              "#fb9f3a"
             ],
             [
              0.8888888888888888,
              "#fdca26"
             ],
             [
              1,
              "#f0f921"
             ]
            ],
            "type": "heatmap"
           }
          ],
          "heatmapgl": [
           {
            "colorbar": {
             "outlinewidth": 0,
             "ticks": ""
            },
            "colorscale": [
             [
              0,
              "#0d0887"
             ],
             [
              0.1111111111111111,
              "#46039f"
             ],
             [
              0.2222222222222222,
              "#7201a8"
             ],
             [
              0.3333333333333333,
              "#9c179e"
             ],
             [
              0.4444444444444444,
              "#bd3786"
             ],
             [
              0.5555555555555556,
              "#d8576b"
             ],
             [
              0.6666666666666666,
              "#ed7953"
             ],
             [
              0.7777777777777778,
              "#fb9f3a"
             ],
             [
              0.8888888888888888,
              "#fdca26"
             ],
             [
              1,
              "#f0f921"
             ]
            ],
            "type": "heatmapgl"
           }
          ],
          "histogram": [
           {
            "marker": {
             "pattern": {
              "fillmode": "overlay",
              "size": 10,
              "solidity": 0.2
             }
            },
            "type": "histogram"
           }
          ],
          "histogram2d": [
           {
            "colorbar": {
             "outlinewidth": 0,
             "ticks": ""
            },
            "colorscale": [
             [
              0,
              "#0d0887"
             ],
             [
              0.1111111111111111,
              "#46039f"
             ],
             [
              0.2222222222222222,
              "#7201a8"
             ],
             [
              0.3333333333333333,
              "#9c179e"
             ],
             [
              0.4444444444444444,
              "#bd3786"
             ],
             [
              0.5555555555555556,
              "#d8576b"
             ],
             [
              0.6666666666666666,
              "#ed7953"
             ],
             [
              0.7777777777777778,
              "#fb9f3a"
             ],
             [
              0.8888888888888888,
              "#fdca26"
             ],
             [
              1,
              "#f0f921"
             ]
            ],
            "type": "histogram2d"
           }
          ],
          "histogram2dcontour": [
           {
            "colorbar": {
             "outlinewidth": 0,
             "ticks": ""
            },
            "colorscale": [
             [
              0,
              "#0d0887"
             ],
             [
              0.1111111111111111,
              "#46039f"
             ],
             [
              0.2222222222222222,
              "#7201a8"
             ],
             [
              0.3333333333333333,
              "#9c179e"
             ],
             [
              0.4444444444444444,
              "#bd3786"
             ],
             [
              0.5555555555555556,
              "#d8576b"
             ],
             [
              0.6666666666666666,
              "#ed7953"
             ],
             [
              0.7777777777777778,
              "#fb9f3a"
             ],
             [
              0.8888888888888888,
              "#fdca26"
             ],
             [
              1,
              "#f0f921"
             ]
            ],
            "type": "histogram2dcontour"
           }
          ],
          "mesh3d": [
           {
            "colorbar": {
             "outlinewidth": 0,
             "ticks": ""
            },
            "type": "mesh3d"
           }
          ],
          "parcoords": [
           {
            "line": {
             "colorbar": {
              "outlinewidth": 0,
              "ticks": ""
             }
            },
            "type": "parcoords"
           }
          ],
          "pie": [
           {
            "automargin": true,
            "type": "pie"
           }
          ],
          "scatter": [
           {
            "fillpattern": {
             "fillmode": "overlay",
             "size": 10,
             "solidity": 0.2
            },
            "type": "scatter"
           }
          ],
          "scatter3d": [
           {
            "line": {
             "colorbar": {
              "outlinewidth": 0,
              "ticks": ""
             }
            },
            "marker": {
             "colorbar": {
              "outlinewidth": 0,
              "ticks": ""
             }
            },
            "type": "scatter3d"
           }
          ],
          "scattercarpet": [
           {
            "marker": {
             "colorbar": {
              "outlinewidth": 0,
              "ticks": ""
             }
            },
            "type": "scattercarpet"
           }
          ],
          "scattergeo": [
           {
            "marker": {
             "colorbar": {
              "outlinewidth": 0,
              "ticks": ""
             }
            },
            "type": "scattergeo"
           }
          ],
          "scattergl": [
           {
            "marker": {
             "colorbar": {
              "outlinewidth": 0,
              "ticks": ""
             }
            },
            "type": "scattergl"
           }
          ],
          "scattermapbox": [
           {
            "marker": {
             "colorbar": {
              "outlinewidth": 0,
              "ticks": ""
             }
            },
            "type": "scattermapbox"
           }
          ],
          "scatterpolar": [
           {
            "marker": {
             "colorbar": {
              "outlinewidth": 0,
              "ticks": ""
             }
            },
            "type": "scatterpolar"
           }
          ],
          "scatterpolargl": [
           {
            "marker": {
             "colorbar": {
              "outlinewidth": 0,
              "ticks": ""
             }
            },
            "type": "scatterpolargl"
           }
          ],
          "scatterternary": [
           {
            "marker": {
             "colorbar": {
              "outlinewidth": 0,
              "ticks": ""
             }
            },
            "type": "scatterternary"
           }
          ],
          "surface": [
           {
            "colorbar": {
             "outlinewidth": 0,
             "ticks": ""
            },
            "colorscale": [
             [
              0,
              "#0d0887"
             ],
             [
              0.1111111111111111,
              "#46039f"
             ],
             [
              0.2222222222222222,
              "#7201a8"
             ],
             [
              0.3333333333333333,
              "#9c179e"
             ],
             [
              0.4444444444444444,
              "#bd3786"
             ],
             [
              0.5555555555555556,
              "#d8576b"
             ],
             [
              0.6666666666666666,
              "#ed7953"
             ],
             [
              0.7777777777777778,
              "#fb9f3a"
             ],
             [
              0.8888888888888888,
              "#fdca26"
             ],
             [
              1,
              "#f0f921"
             ]
            ],
            "type": "surface"
           }
          ],
          "table": [
           {
            "cells": {
             "fill": {
              "color": "#EBF0F8"
             },
             "line": {
              "color": "white"
             }
            },
            "header": {
             "fill": {
              "color": "#C8D4E3"
             },
             "line": {
              "color": "white"
             }
            },
            "type": "table"
           }
          ]
         },
         "layout": {
          "annotationdefaults": {
           "arrowcolor": "#2a3f5f",
           "arrowhead": 0,
           "arrowwidth": 1
          },
          "autotypenumbers": "strict",
          "coloraxis": {
           "colorbar": {
            "outlinewidth": 0,
            "ticks": ""
           }
          },
          "colorscale": {
           "diverging": [
            [
             0,
             "#8e0152"
            ],
            [
             0.1,
             "#c51b7d"
            ],
            [
             0.2,
             "#de77ae"
            ],
            [
             0.3,
             "#f1b6da"
            ],
            [
             0.4,
             "#fde0ef"
            ],
            [
             0.5,
             "#f7f7f7"
            ],
            [
             0.6,
             "#e6f5d0"
            ],
            [
             0.7,
             "#b8e186"
            ],
            [
             0.8,
             "#7fbc41"
            ],
            [
             0.9,
             "#4d9221"
            ],
            [
             1,
             "#276419"
            ]
           ],
           "sequential": [
            [
             0,
             "#0d0887"
            ],
            [
             0.1111111111111111,
             "#46039f"
            ],
            [
             0.2222222222222222,
             "#7201a8"
            ],
            [
             0.3333333333333333,
             "#9c179e"
            ],
            [
             0.4444444444444444,
             "#bd3786"
            ],
            [
             0.5555555555555556,
             "#d8576b"
            ],
            [
             0.6666666666666666,
             "#ed7953"
            ],
            [
             0.7777777777777778,
             "#fb9f3a"
            ],
            [
             0.8888888888888888,
             "#fdca26"
            ],
            [
             1,
             "#f0f921"
            ]
           ],
           "sequentialminus": [
            [
             0,
             "#0d0887"
            ],
            [
             0.1111111111111111,
             "#46039f"
            ],
            [
             0.2222222222222222,
             "#7201a8"
            ],
            [
             0.3333333333333333,
             "#9c179e"
            ],
            [
             0.4444444444444444,
             "#bd3786"
            ],
            [
             0.5555555555555556,
             "#d8576b"
            ],
            [
             0.6666666666666666,
             "#ed7953"
            ],
            [
             0.7777777777777778,
             "#fb9f3a"
            ],
            [
             0.8888888888888888,
             "#fdca26"
            ],
            [
             1,
             "#f0f921"
            ]
           ]
          },
          "colorway": [
           "#636efa",
           "#EF553B",
           "#00cc96",
           "#ab63fa",
           "#FFA15A",
           "#19d3f3",
           "#FF6692",
           "#B6E880",
           "#FF97FF",
           "#FECB52"
          ],
          "font": {
           "color": "#2a3f5f"
          },
          "geo": {
           "bgcolor": "white",
           "lakecolor": "white",
           "landcolor": "#E5ECF6",
           "showlakes": true,
           "showland": true,
           "subunitcolor": "white"
          },
          "hoverlabel": {
           "align": "left"
          },
          "hovermode": "closest",
          "mapbox": {
           "style": "light"
          },
          "paper_bgcolor": "white",
          "plot_bgcolor": "#E5ECF6",
          "polar": {
           "angularaxis": {
            "gridcolor": "white",
            "linecolor": "white",
            "ticks": ""
           },
           "bgcolor": "#E5ECF6",
           "radialaxis": {
            "gridcolor": "white",
            "linecolor": "white",
            "ticks": ""
           }
          },
          "scene": {
           "xaxis": {
            "backgroundcolor": "#E5ECF6",
            "gridcolor": "white",
            "gridwidth": 2,
            "linecolor": "white",
            "showbackground": true,
            "ticks": "",
            "zerolinecolor": "white"
           },
           "yaxis": {
            "backgroundcolor": "#E5ECF6",
            "gridcolor": "white",
            "gridwidth": 2,
            "linecolor": "white",
            "showbackground": true,
            "ticks": "",
            "zerolinecolor": "white"
           },
           "zaxis": {
            "backgroundcolor": "#E5ECF6",
            "gridcolor": "white",
            "gridwidth": 2,
            "linecolor": "white",
            "showbackground": true,
            "ticks": "",
            "zerolinecolor": "white"
           }
          },
          "shapedefaults": {
           "line": {
            "color": "#2a3f5f"
           }
          },
          "ternary": {
           "aaxis": {
            "gridcolor": "white",
            "linecolor": "white",
            "ticks": ""
           },
           "baxis": {
            "gridcolor": "white",
            "linecolor": "white",
            "ticks": ""
           },
           "bgcolor": "#E5ECF6",
           "caxis": {
            "gridcolor": "white",
            "linecolor": "white",
            "ticks": ""
           }
          },
          "title": {
           "x": 0.05
          },
          "xaxis": {
           "automargin": true,
           "gridcolor": "white",
           "linecolor": "white",
           "ticks": "",
           "title": {
            "standoff": 15
           },
           "zerolinecolor": "white",
           "zerolinewidth": 2
          },
          "yaxis": {
           "automargin": true,
           "gridcolor": "white",
           "linecolor": "white",
           "ticks": "",
           "title": {
            "standoff": 15
           },
           "zerolinecolor": "white",
           "zerolinewidth": 2
          }
         }
        },
        "title": {
         "text": "t-SNE Plot"
        },
        "xaxis": {
         "anchor": "y",
         "domain": [
          0,
          1
         ],
         "title": {
          "text": "Dimension 1"
         }
        },
        "yaxis": {
         "anchor": "x",
         "domain": [
          0,
          1
         ],
         "title": {
          "text": "Dimension 2"
         }
        }
       }
      }
     },
     "metadata": {},
     "output_type": "display_data"
    }
   ],
   "source": [
    "import pandas as pd\n",
    "import numpy as np\n",
    "import plotly.express as px\n",
    "from sklearn.manifold import TSNE\n",
    "import re\n",
    "\n",
    "# Cargar los datos\n",
    "df = pd.read_csv('df_files03.csv')\n",
    "X = df[[col for col in df.columns if col[0] == 'v']].values\n",
    "\n",
    "# Reducir dimensionalidad con t-SNE\n",
    "X2 = TSNE(n_components=2, init='random', random_state=42).fit_transform(X)\n",
    "\n",
    "# Definir los patrones que deseas extraer\n",
    "patterns = r'SOP'\n",
    "\n",
    "# Crear una lista de etiquetas, asegurando que no se produzca un IndexError\n",
    "labels = [re.findall(patterns, name)[0] if re.findall(patterns, name) else None for name in df.filename]\n",
    "\n",
    "# Crear un DataFrame para los datos de t-SNE\n",
    "df_X2 = pd.DataFrame(X2, columns=['Dimension 1', 'Dimension 2'])\n",
    "df_X2['label'] = labels\n",
    "df_X2['document'] = df.filename\n",
    "\n",
    "# Crear un gráfico interactivo con Plotly\n",
    "fig = px.scatter(df_X2, x='Dimension 1', y='Dimension 2', color='label', hover_name='document',\n",
    "                 title='t-SNE Plot', opacity=0.7)\n",
    "\n",
    "# Personalizar el diseño\n",
    "fig.update_traces(marker=dict(size=10, line=dict(width=1, color='black')))\n",
    "fig.update_layout(legend_title_text='Labels')\n",
    "\n",
    "# Mostrar el gráfico\n",
    "fig.show()\n",
    "\n",
    "# Guardar DataFrame con los resultados\n",
    "df_X2.to_csv('X2_data.csv', index=False)"
   ]
  },
  {
   "cell_type": "code",
   "execution_count": 3,
   "metadata": {},
   "outputs": [
    {
     "data": {
      "application/vnd.plotly.v1+json": {
       "config": {
        "plotlyServerURL": "https://plot.ly"
       },
       "data": [
        {
         "hovertemplate": "<b>%{hovertext}</b><br><br>label=SOP<br>Dim1=%{x}<br>Dim2=%{y}<br>Dim3=%{z}<extra></extra>",
         "hovertext": [
          "Anexo T.03.03 - 80059353 MIRISTATO DE ISOPROPILO",
          "Anexo T.03.03 - 80770359 ALCOHOL ISOPROPILICO",
          "T.03.03 - 80770359 ALCOHOL ISOPROPILICO"
         ],
         "legendgroup": "SOP",
         "marker": {
          "color": "#EF553B",
          "line": {
           "color": "black",
           "width": 0.5
          },
          "opacity": 1,
          "size": 4,
          "symbol": "circle"
         },
         "mode": "markers",
         "name": "SOP",
         "scene": "scene",
         "showlegend": true,
         "type": "scatter3d",
         "x": [
          -7.086578369140625,
          -7.086578369140625,
          0.3398653566837311
         ],
         "y": [
          -2.392613649368286,
          -2.392613649368286,
          8.921012878417969
         ],
         "z": [
          3.7590744495391846,
          3.7590744495391846,
          -5.219802379608154
         ]
        }
       ],
       "layout": {
        "legend": {
         "title": {
          "text": "label"
         },
         "tracegroupgap": 0
        },
        "margin": {
         "b": 0,
         "l": 0,
         "r": 0,
         "t": 0
        },
        "scene": {
         "domain": {
          "x": [
           0,
           1
          ],
          "y": [
           0,
           1
          ]
         },
         "xaxis": {
          "title": {
           "text": "Dim1"
          }
         },
         "yaxis": {
          "title": {
           "text": "Dim2"
          }
         },
         "zaxis": {
          "title": {
           "text": "Dim3"
          }
         }
        },
        "template": {
         "data": {
          "bar": [
           {
            "error_x": {
             "color": "#2a3f5f"
            },
            "error_y": {
             "color": "#2a3f5f"
            },
            "marker": {
             "line": {
              "color": "#E5ECF6",
              "width": 0.5
             },
             "pattern": {
              "fillmode": "overlay",
              "size": 10,
              "solidity": 0.2
             }
            },
            "type": "bar"
           }
          ],
          "barpolar": [
           {
            "marker": {
             "line": {
              "color": "#E5ECF6",
              "width": 0.5
             },
             "pattern": {
              "fillmode": "overlay",
              "size": 10,
              "solidity": 0.2
             }
            },
            "type": "barpolar"
           }
          ],
          "carpet": [
           {
            "aaxis": {
             "endlinecolor": "#2a3f5f",
             "gridcolor": "white",
             "linecolor": "white",
             "minorgridcolor": "white",
             "startlinecolor": "#2a3f5f"
            },
            "baxis": {
             "endlinecolor": "#2a3f5f",
             "gridcolor": "white",
             "linecolor": "white",
             "minorgridcolor": "white",
             "startlinecolor": "#2a3f5f"
            },
            "type": "carpet"
           }
          ],
          "choropleth": [
           {
            "colorbar": {
             "outlinewidth": 0,
             "ticks": ""
            },
            "type": "choropleth"
           }
          ],
          "contour": [
           {
            "colorbar": {
             "outlinewidth": 0,
             "ticks": ""
            },
            "colorscale": [
             [
              0,
              "#0d0887"
             ],
             [
              0.1111111111111111,
              "#46039f"
             ],
             [
              0.2222222222222222,
              "#7201a8"
             ],
             [
              0.3333333333333333,
              "#9c179e"
             ],
             [
              0.4444444444444444,
              "#bd3786"
             ],
             [
              0.5555555555555556,
              "#d8576b"
             ],
             [
              0.6666666666666666,
              "#ed7953"
             ],
             [
              0.7777777777777778,
              "#fb9f3a"
             ],
             [
              0.8888888888888888,
              "#fdca26"
             ],
             [
              1,
              "#f0f921"
             ]
            ],
            "type": "contour"
           }
          ],
          "contourcarpet": [
           {
            "colorbar": {
             "outlinewidth": 0,
             "ticks": ""
            },
            "type": "contourcarpet"
           }
          ],
          "heatmap": [
           {
            "colorbar": {
             "outlinewidth": 0,
             "ticks": ""
            },
            "colorscale": [
             [
              0,
              "#0d0887"
             ],
             [
              0.1111111111111111,
              "#46039f"
             ],
             [
              0.2222222222222222,
              "#7201a8"
             ],
             [
              0.3333333333333333,
              "#9c179e"
             ],
             [
              0.4444444444444444,
              "#bd3786"
             ],
             [
              0.5555555555555556,
              "#d8576b"
             ],
             [
              0.6666666666666666,
              "#ed7953"
             ],
             [
              0.7777777777777778,
              "#fb9f3a"
             ],
             [
              0.8888888888888888,
              "#fdca26"
             ],
             [
              1,
              "#f0f921"
             ]
            ],
            "type": "heatmap"
           }
          ],
          "heatmapgl": [
           {
            "colorbar": {
             "outlinewidth": 0,
             "ticks": ""
            },
            "colorscale": [
             [
              0,
              "#0d0887"
             ],
             [
              0.1111111111111111,
              "#46039f"
             ],
             [
              0.2222222222222222,
              "#7201a8"
             ],
             [
              0.3333333333333333,
              "#9c179e"
             ],
             [
              0.4444444444444444,
              "#bd3786"
             ],
             [
              0.5555555555555556,
              "#d8576b"
             ],
             [
              0.6666666666666666,
              "#ed7953"
             ],
             [
              0.7777777777777778,
              "#fb9f3a"
             ],
             [
              0.8888888888888888,
              "#fdca26"
             ],
             [
              1,
              "#f0f921"
             ]
            ],
            "type": "heatmapgl"
           }
          ],
          "histogram": [
           {
            "marker": {
             "pattern": {
              "fillmode": "overlay",
              "size": 10,
              "solidity": 0.2
             }
            },
            "type": "histogram"
           }
          ],
          "histogram2d": [
           {
            "colorbar": {
             "outlinewidth": 0,
             "ticks": ""
            },
            "colorscale": [
             [
              0,
              "#0d0887"
             ],
             [
              0.1111111111111111,
              "#46039f"
             ],
             [
              0.2222222222222222,
              "#7201a8"
             ],
             [
              0.3333333333333333,
              "#9c179e"
             ],
             [
              0.4444444444444444,
              "#bd3786"
             ],
             [
              0.5555555555555556,
              "#d8576b"
             ],
             [
              0.6666666666666666,
              "#ed7953"
             ],
             [
              0.7777777777777778,
              "#fb9f3a"
             ],
             [
              0.8888888888888888,
              "#fdca26"
             ],
             [
              1,
              "#f0f921"
             ]
            ],
            "type": "histogram2d"
           }
          ],
          "histogram2dcontour": [
           {
            "colorbar": {
             "outlinewidth": 0,
             "ticks": ""
            },
            "colorscale": [
             [
              0,
              "#0d0887"
             ],
             [
              0.1111111111111111,
              "#46039f"
             ],
             [
              0.2222222222222222,
              "#7201a8"
             ],
             [
              0.3333333333333333,
              "#9c179e"
             ],
             [
              0.4444444444444444,
              "#bd3786"
             ],
             [
              0.5555555555555556,
              "#d8576b"
             ],
             [
              0.6666666666666666,
              "#ed7953"
             ],
             [
              0.7777777777777778,
              "#fb9f3a"
             ],
             [
              0.8888888888888888,
              "#fdca26"
             ],
             [
              1,
              "#f0f921"
             ]
            ],
            "type": "histogram2dcontour"
           }
          ],
          "mesh3d": [
           {
            "colorbar": {
             "outlinewidth": 0,
             "ticks": ""
            },
            "type": "mesh3d"
           }
          ],
          "parcoords": [
           {
            "line": {
             "colorbar": {
              "outlinewidth": 0,
              "ticks": ""
             }
            },
            "type": "parcoords"
           }
          ],
          "pie": [
           {
            "automargin": true,
            "type": "pie"
           }
          ],
          "scatter": [
           {
            "fillpattern": {
             "fillmode": "overlay",
             "size": 10,
             "solidity": 0.2
            },
            "type": "scatter"
           }
          ],
          "scatter3d": [
           {
            "line": {
             "colorbar": {
              "outlinewidth": 0,
              "ticks": ""
             }
            },
            "marker": {
             "colorbar": {
              "outlinewidth": 0,
              "ticks": ""
             }
            },
            "type": "scatter3d"
           }
          ],
          "scattercarpet": [
           {
            "marker": {
             "colorbar": {
              "outlinewidth": 0,
              "ticks": ""
             }
            },
            "type": "scattercarpet"
           }
          ],
          "scattergeo": [
           {
            "marker": {
             "colorbar": {
              "outlinewidth": 0,
              "ticks": ""
             }
            },
            "type": "scattergeo"
           }
          ],
          "scattergl": [
           {
            "marker": {
             "colorbar": {
              "outlinewidth": 0,
              "ticks": ""
             }
            },
            "type": "scattergl"
           }
          ],
          "scattermapbox": [
           {
            "marker": {
             "colorbar": {
              "outlinewidth": 0,
              "ticks": ""
             }
            },
            "type": "scattermapbox"
           }
          ],
          "scatterpolar": [
           {
            "marker": {
             "colorbar": {
              "outlinewidth": 0,
              "ticks": ""
             }
            },
            "type": "scatterpolar"
           }
          ],
          "scatterpolargl": [
           {
            "marker": {
             "colorbar": {
              "outlinewidth": 0,
              "ticks": ""
             }
            },
            "type": "scatterpolargl"
           }
          ],
          "scatterternary": [
           {
            "marker": {
             "colorbar": {
              "outlinewidth": 0,
              "ticks": ""
             }
            },
            "type": "scatterternary"
           }
          ],
          "surface": [
           {
            "colorbar": {
             "outlinewidth": 0,
             "ticks": ""
            },
            "colorscale": [
             [
              0,
              "#0d0887"
             ],
             [
              0.1111111111111111,
              "#46039f"
             ],
             [
              0.2222222222222222,
              "#7201a8"
             ],
             [
              0.3333333333333333,
              "#9c179e"
             ],
             [
              0.4444444444444444,
              "#bd3786"
             ],
             [
              0.5555555555555556,
              "#d8576b"
             ],
             [
              0.6666666666666666,
              "#ed7953"
             ],
             [
              0.7777777777777778,
              "#fb9f3a"
             ],
             [
              0.8888888888888888,
              "#fdca26"
             ],
             [
              1,
              "#f0f921"
             ]
            ],
            "type": "surface"
           }
          ],
          "table": [
           {
            "cells": {
             "fill": {
              "color": "#EBF0F8"
             },
             "line": {
              "color": "white"
             }
            },
            "header": {
             "fill": {
              "color": "#C8D4E3"
             },
             "line": {
              "color": "white"
             }
            },
            "type": "table"
           }
          ]
         },
         "layout": {
          "annotationdefaults": {
           "arrowcolor": "#2a3f5f",
           "arrowhead": 0,
           "arrowwidth": 1
          },
          "autotypenumbers": "strict",
          "coloraxis": {
           "colorbar": {
            "outlinewidth": 0,
            "ticks": ""
           }
          },
          "colorscale": {
           "diverging": [
            [
             0,
             "#8e0152"
            ],
            [
             0.1,
             "#c51b7d"
            ],
            [
             0.2,
             "#de77ae"
            ],
            [
             0.3,
             "#f1b6da"
            ],
            [
             0.4,
             "#fde0ef"
            ],
            [
             0.5,
             "#f7f7f7"
            ],
            [
             0.6,
             "#e6f5d0"
            ],
            [
             0.7,
             "#b8e186"
            ],
            [
             0.8,
             "#7fbc41"
            ],
            [
             0.9,
             "#4d9221"
            ],
            [
             1,
             "#276419"
            ]
           ],
           "sequential": [
            [
             0,
             "#0d0887"
            ],
            [
             0.1111111111111111,
             "#46039f"
            ],
            [
             0.2222222222222222,
             "#7201a8"
            ],
            [
             0.3333333333333333,
             "#9c179e"
            ],
            [
             0.4444444444444444,
             "#bd3786"
            ],
            [
             0.5555555555555556,
             "#d8576b"
            ],
            [
             0.6666666666666666,
             "#ed7953"
            ],
            [
             0.7777777777777778,
             "#fb9f3a"
            ],
            [
             0.8888888888888888,
             "#fdca26"
            ],
            [
             1,
             "#f0f921"
            ]
           ],
           "sequentialminus": [
            [
             0,
             "#0d0887"
            ],
            [
             0.1111111111111111,
             "#46039f"
            ],
            [
             0.2222222222222222,
             "#7201a8"
            ],
            [
             0.3333333333333333,
             "#9c179e"
            ],
            [
             0.4444444444444444,
             "#bd3786"
            ],
            [
             0.5555555555555556,
             "#d8576b"
            ],
            [
             0.6666666666666666,
             "#ed7953"
            ],
            [
             0.7777777777777778,
             "#fb9f3a"
            ],
            [
             0.8888888888888888,
             "#fdca26"
            ],
            [
             1,
             "#f0f921"
            ]
           ]
          },
          "colorway": [
           "#636efa",
           "#EF553B",
           "#00cc96",
           "#ab63fa",
           "#FFA15A",
           "#19d3f3",
           "#FF6692",
           "#B6E880",
           "#FF97FF",
           "#FECB52"
          ],
          "font": {
           "color": "#2a3f5f"
          },
          "geo": {
           "bgcolor": "white",
           "lakecolor": "white",
           "landcolor": "#E5ECF6",
           "showlakes": true,
           "showland": true,
           "subunitcolor": "white"
          },
          "hoverlabel": {
           "align": "left"
          },
          "hovermode": "closest",
          "mapbox": {
           "style": "light"
          },
          "paper_bgcolor": "white",
          "plot_bgcolor": "#E5ECF6",
          "polar": {
           "angularaxis": {
            "gridcolor": "white",
            "linecolor": "white",
            "ticks": ""
           },
           "bgcolor": "#E5ECF6",
           "radialaxis": {
            "gridcolor": "white",
            "linecolor": "white",
            "ticks": ""
           }
          },
          "scene": {
           "xaxis": {
            "backgroundcolor": "#E5ECF6",
            "gridcolor": "white",
            "gridwidth": 2,
            "linecolor": "white",
            "showbackground": true,
            "ticks": "",
            "zerolinecolor": "white"
           },
           "yaxis": {
            "backgroundcolor": "#E5ECF6",
            "gridcolor": "white",
            "gridwidth": 2,
            "linecolor": "white",
            "showbackground": true,
            "ticks": "",
            "zerolinecolor": "white"
           },
           "zaxis": {
            "backgroundcolor": "#E5ECF6",
            "gridcolor": "white",
            "gridwidth": 2,
            "linecolor": "white",
            "showbackground": true,
            "ticks": "",
            "zerolinecolor": "white"
           }
          },
          "shapedefaults": {
           "line": {
            "color": "#2a3f5f"
           }
          },
          "ternary": {
           "aaxis": {
            "gridcolor": "white",
            "linecolor": "white",
            "ticks": ""
           },
           "baxis": {
            "gridcolor": "white",
            "linecolor": "white",
            "ticks": ""
           },
           "bgcolor": "#E5ECF6",
           "caxis": {
            "gridcolor": "white",
            "linecolor": "white",
            "ticks": ""
           }
          },
          "title": {
           "x": 0.05
          },
          "xaxis": {
           "automargin": true,
           "gridcolor": "white",
           "linecolor": "white",
           "ticks": "",
           "title": {
            "standoff": 15
           },
           "zerolinecolor": "white",
           "zerolinewidth": 2
          },
          "yaxis": {
           "automargin": true,
           "gridcolor": "white",
           "linecolor": "white",
           "ticks": "",
           "title": {
            "standoff": 15
           },
           "zerolinecolor": "white",
           "zerolinewidth": 2
          }
         }
        }
       }
      }
     },
     "metadata": {},
     "output_type": "display_data"
    }
   ],
   "source": [
    "X_doc2vec_3D = TSNE(n_components=3, init='random', random_state=42).fit_transform(X)\n",
    "\n",
    "# Create DataFrame for X2 data\n",
    "df_doc2vec = pd.DataFrame(X_doc2vec_3D, columns=['Dim1', 'Dim2','Dim3'])\n",
    "\n",
    "# Create DataFrame for labels\n",
    "df_doc2vec['label'] = labels\n",
    "df_doc2vec['document'] = df.filename\n",
    "\n",
    "# Save DataFrames to CSV files\n",
    "#df_doc2vec.to_csv('X2_model_data_v2.csv', index=False)\n",
    "\n",
    "import plotly.express as px\n",
    "\n",
    "\n",
    "fig = px.scatter_3d(df_doc2vec, x='Dim1', y='Dim2', z='Dim3',\n",
    "              color='label',\n",
    "              opacity=1,\n",
    "              #size=np.random.rand(len(df_doc2vec)),#[1] * len(df_doc2vec),\n",
    "              #size='size',\n",
    "              hover_name='document')\n",
    "fig.update_layout(margin=dict(l=0, r=0, b=0, t=0))\n",
    "fig.update_traces(marker_size = 4,marker_line_color='black', marker_line_width=0.5)\n",
    "fig.show()"
   ]
  },
  {
   "cell_type": "code",
   "execution_count": 4,
   "metadata": {},
   "outputs": [
    {
     "name": "stdout",
     "output_type": "stream",
     "text": [
      "Documentos similares:\n",
      "                                              Document 1  \\\n",
      "93856   T.03.03 - 88728238 FOLIC ACID Ph, 25 KG BAGALU     \n",
      "20588  Anexo T.03.03 - 58039008 Esencia Naranja 60304-31   \n",
      "84533                T.03.03 - 80112726 Manitol SD200(1)   \n",
      "0                   Anexo - T.03.03 - 58039814 EUTANOL G   \n",
      "42131     Anexo T.03.03 - 58257927 Cantaxantina 10% CWSS   \n",
      "...                                                  ...   \n",
      "66287           T.03.03 - 58038222 VIT A PALM DRY 100 WS   \n",
      "73591                    T.03.03 - 58039113 Goma arabiga   \n",
      "66308                    T.03.03 - 58038249 Acido Folico   \n",
      "65520  T.03.03 -  88142136 Sepisperse Dry 3258 B Oran...   \n",
      "88314      T.03.03 - 84548871 Etilcelulosa Dispersada FG   \n",
      "\n",
      "                                              Document 2  Similarity  \n",
      "93856                 T.03.03 - 90144876 ACIDO FOLICO NV    1.000000  \n",
      "20588             Anexo T.03.03 - 85621920 Esencia Cacao    1.000000  \n",
      "84533                   T.03.03 - 80112726 Manitol SD200    1.000000  \n",
      "0      Anexo 1 T.03.03 - 762818 ACETYLSALICYLSRE 0-18...    1.000000  \n",
      "42131  Anexo T.03.03 - 85456873 Esencia Naranja SC355...    1.000000  \n",
      "...                                                  ...         ...  \n",
      "66287    T.03.03 - 86934221 SULFATO DE MANGANESO 1H2O CN    0.900999  \n",
      "73591      T.03.03 - 80071159 Tiamina Mononitrato 33 13%    0.900567  \n",
      "66308  T.03.03 - 87044378 SULFATO DE MANGANESO MONOHI...    0.900246  \n",
      "65520          T.03.03 - 58038370 Piridoxina clorhidrato    0.900073  \n",
      "88314             T.03.03 - 84548979 Cloruro de sodio FG    0.900020  \n",
      "\n",
      "[93977 rows x 3 columns]\n"
     ]
    }
   ],
   "source": [
    "# Calcular similitudes entre documentos\n",
    "similarity_matrix = np.zeros((X.shape[0], X.shape[0]))\n",
    "\n",
    "for i in range(X.shape[0]):\n",
    "    for j in range(i + 1, X.shape[0]):\n",
    "        sim = get_sim(X[i], X[j])\n",
    "        similarity_matrix[i, j] = sim\n",
    "        similarity_matrix[j, i] = sim  # Simetría\n",
    "\n",
    "# Definir un umbral de similitud\n",
    "threshold = 0.9  # Ajusta este valor según sea necesario\n",
    "\n",
    "# Encontrar documentos que superen el umbral de similitud\n",
    "similar_pairs = []\n",
    "\n",
    "for i in range(X.shape[0]):\n",
    "    for j in range(i + 1, X.shape[0]):\n",
    "        if similarity_matrix[i, j] >= threshold:\n",
    "            similar_pairs.append((df.filename[i], df.filename[j], similarity_matrix[i, j]))\n",
    "\n",
    "# Convertir a DataFrame para facilitar la visualización\n",
    "similar_pairs_df = pd.DataFrame(similar_pairs, columns=['Document 1', 'Document 2', 'Similarity'])\n",
    "\n",
    "similar_pairs_df.sort_values(by=[\"Similarity\"], ascending=False, inplace=True)\n",
    "# Imprimir los documentos similares\n",
    "print(\"Documentos similares:\")\n",
    "print(similar_pairs_df)\n",
    "\n",
    "# Guardar los resultados a un archivo CSV\n",
    "similar_pairs_df.to_csv('similar_documents.csv', index=False)"
   ]
  },
  {
   "cell_type": "code",
   "execution_count": 5,
   "metadata": {},
   "outputs": [
    {
     "name": "stdout",
     "output_type": "stream",
     "text": [
      "Documentos similares:\n",
      "                                              Document 1  \\\n",
      "93196   T.03.03 - 88728238 FOLIC ACID Ph, 25 KG BAGALU     \n",
      "20525  Anexo T.03.03 - 58039008 Esencia Naranja 60304-31   \n",
      "83945                T.03.03 - 80112726 Manitol SD200(1)   \n",
      "0                   Anexo - T.03.03 - 58039814 EUTANOL G   \n",
      "41897  Anexo T.03.03 - 58257935 58039776 POLIETILENGL...   \n",
      "...                                                  ...   \n",
      "22920                   Anexo T.03.03 - 58039180 Manitol   \n",
      "76015    T.03.03 - 58039652 BICARBONATO DE SODIO FINO CC   \n",
      "65157  T.03.03 -  88142136 Sepisperse Dry 3258 B Oran...   \n",
      "76024    T.03.03 - 58039652 BICARBONATO DE SODIO FINO CC   \n",
      "73096                    T.03.03 - 58039113 Goma arabiga   \n",
      "\n",
      "                                              Document 2  Similarity  \n",
      "93196                 T.03.03 - 90144876 ACIDO FOLICO NV    1.000000  \n",
      "20525             Anexo T.03.03 - 85621920 Esencia Cacao    1.000000  \n",
      "83945                   T.03.03 - 80112726 Manitol SD200    1.000000  \n",
      "0      Anexo 1 T.03.03 - 762818 ACETYLSALICYLSRE 0-18...    1.000000  \n",
      "41897    Anexo T.03.03 - 58257935 PARACETAMOL POLVO FINO    1.000000  \n",
      "...                                                  ...         ...  \n",
      "22920  Anexo T.03.03 - 58040421 Glicerofosfato de mag...    0.950577  \n",
      "76015          T.03.03 - 58040170 Sorbitol granular P300    0.950507  \n",
      "65157                    T.03.03 - 58038249 Acido Folico    0.950468  \n",
      "76024  T.03.03 - 86684071 BICARBONATO DE SODIO BIG BA...    0.950391  \n",
      "73096    T.03.03 - 58039652 BICARBONATO DE SODIO FINO CC    0.950320  \n",
      "\n",
      "[93317 rows x 3 columns]\n"
     ]
    }
   ],
   "source": [
    "# Calcular similitudes entre documentos\n",
    "similarity_matrix = np.zeros((X.shape[0], X.shape[0]))\n",
    "\n",
    "for i in range(X.shape[0]):\n",
    "    for j in range(i + 1, X.shape[0]):\n",
    "        sim = get_sim(X[i], X[j])\n",
    "        similarity_matrix[i, j] = sim\n",
    "        similarity_matrix[j, i] = sim  # Simetría\n",
    "\n",
    "# Definir un umbral de similitud\n",
    "threshold = 0.95  # Ajusta este valor según sea necesario\n",
    "\n",
    "# Encontrar documentos que superen el umbral de similitud\n",
    "similar_pairs = []\n",
    "\n",
    "for i in range(X.shape[0]):\n",
    "    for j in range(i + 1, X.shape[0]):\n",
    "        if similarity_matrix[i, j] >= threshold:\n",
    "            similar_pairs.append((df.filename[i], df.filename[j], similarity_matrix[i, j]))\n",
    "\n",
    "# Convertir a DataFrame para facilitar la visualización\n",
    "similar_pairs_df = pd.DataFrame(similar_pairs, columns=['Document 1', 'Document 2', 'Similarity'])\n",
    "\n",
    "similar_pairs_df.sort_values(by=[\"Similarity\"], ascending=False, inplace=True)\n",
    "# Imprimir los documentos similares\n",
    "print(\"Documentos similares:\")\n",
    "print(similar_pairs_df)\n",
    "\n",
    "# Guardar los resultados a un archivo CSV\n",
    "similar_pairs_df.to_csv('similar_documents.csv', index=False)"
   ]
  },
  {
   "cell_type": "markdown",
   "metadata": {},
   "source": []
  },
  {
   "cell_type": "markdown",
   "metadata": {},
   "source": [
    "# Funcion para buscar palabras clave"
   ]
  },
  {
   "cell_type": "code",
   "execution_count": 6,
   "metadata": {},
   "outputs": [],
   "source": [
    "def buscar_palabra_clave(df, palabra_clave):\n",
    "    \"\"\"\n",
    "    Busca una palabra clave en el contenido de los SOPs y devuelve una lista de documentos que la contienen.\n",
    "\n",
    "    :param df: DataFrame que contiene los SOPs.\n",
    "    :param palabra_clave: La palabra clave a buscar.\n",
    "    :return: Lista de nombres de documentos que contienen la palabra clave.\n",
    "    \"\"\"\n",
    "    # Lista para almacenar los nombres de documentos que contienen la palabra clave\n",
    "    documentos_encontrados = []\n",
    "\n",
    "    # Iterar sobre cada documento en el DataFrame\n",
    "    for index, row in df.iterrows():\n",
    "        contenido = row['content']  # Asumiendo que tienes una columna 'content' con el texto del SOP\n",
    "\n",
    "        # Asegurarse de que 'contenido' sea una cadena antes de buscar la palabra clave\n",
    "        if isinstance(contenido, str) and palabra_clave.lower() in contenido.lower():\n",
    "            documentos_encontrados.append(row['filename'])  # Asumiendo que tienes una columna 'filename'\n",
    "\n",
    "    return documentos_encontrados"
   ]
  },
  {
   "cell_type": "markdown",
   "metadata": {},
   "source": [
    "Buscar la/s palabra/s clave"
   ]
  },
  {
   "cell_type": "markdown",
   "metadata": {},
   "source": [
    "HPLC"
   ]
  },
  {
   "cell_type": "code",
   "execution_count": 7,
   "metadata": {},
   "outputs": [
    {
     "name": "stdout",
     "output_type": "stream",
     "text": [
      "La palabra clave ' HPLC' se encuentra en los siguientes SOPs:\n",
      "T.03.03 - 58039598  ACIDO BETA-GLICIRRETINICO\n",
      "T.03.03 - 58257935 PARACETAMOL POLVO FINO\n",
      "T.03.03 - 80071078 Ioduro de Potasio 1%\n",
      "T.03.03 - 90448964  ACIDO BETA-GLICIRRETINICO\n"
     ]
    }
   ],
   "source": [
    "palabra_clave = \" HPLC\"\n",
    "resultados = buscar_palabra_clave(df, palabra_clave)\n",
    "\n",
    "# Imprimir los resultados\n",
    "if resultados:\n",
    "    print(f\"La palabra clave '{palabra_clave}' se encuentra en los siguientes SOPs:\")\n",
    "    for documento in resultados:\n",
    "        print(documento)\n",
    "else:\n",
    "    print(f\"La palabra clave '{palabra_clave}' no se encontró en ningún SOP.\")"
   ]
  },
  {
   "cell_type": "markdown",
   "metadata": {},
   "source": [
    "GC"
   ]
  },
  {
   "cell_type": "code",
   "execution_count": 8,
   "metadata": {},
   "outputs": [
    {
     "name": "stdout",
     "output_type": "stream",
     "text": [
      "La palabra clave ' GC' se encuentra en los siguientes SOPs:\n",
      "T.03.03 - 58038877 Esencia Naranja 55588\n",
      "T.03.03 - 58038990 Esencia Limon 84260-51\n",
      "T.03.03 - 58039008 Esencia Naranja 60304-31\n",
      "T.03.03 - 58039016 Esencia Naranja 84257-51\n",
      "T.03.03 - 58039032 Esencia Mandarina 84729-51\n",
      "T.03.03 - 58039865 AROMA DE NARANJA 51239\n",
      "T.03.03 - 58040030 AROMA DE FRAMBUESA 584641\n",
      "T.03.03 - 58040294 Esen Naranja 97363-51\n",
      "T.03.03 - 80112742 Esencia de Naranja PHQ-141809\n",
      "T.03.03 - 80122055 Esencia de Maracuya PHQ-141810\n",
      "T.03.03 - 80174314 Aroma Naranja TDI0508\n",
      "T.03.03 - 87161242 Esencia Naranja TA\n",
      "T.03.03 - 87161269 Esencia Naranja TA FG\n",
      "T.03.03 - 90135494 AROMA NARANJA Q-447340 NV\n"
     ]
    }
   ],
   "source": [
    "palabra_clave = \" GC\"\n",
    "resultados = buscar_palabra_clave(df, palabra_clave)\n",
    "\n",
    "# Imprimir los resultados\n",
    "if resultados:\n",
    "    print(f\"La palabra clave '{palabra_clave}' se encuentra en los siguientes SOPs:\")\n",
    "    for documento in resultados:\n",
    "        print(documento)\n",
    "else:\n",
    "    print(f\"La palabra clave '{palabra_clave}' no se encontró en ningún SOP.\")"
   ]
  },
  {
   "cell_type": "markdown",
   "metadata": {},
   "source": [
    "Cromatografia gaseosa"
   ]
  },
  {
   "cell_type": "code",
   "execution_count": 9,
   "metadata": {},
   "outputs": [
    {
     "name": "stdout",
     "output_type": "stream",
     "text": [
      "La palabra clave ' Cromatografía gaseosa ' se encuentra en los siguientes SOPs:\n",
      "T.03.03 - 58038435 Esteres Sacarosa Ac Grasos\n",
      "T.03.03 - 58039601 L-mentol\n"
     ]
    }
   ],
   "source": [
    "palabra_clave = \" Cromatografía gaseosa \"\n",
    "resultados = buscar_palabra_clave(df, palabra_clave)\n",
    "\n",
    "# Imprimir los resultados\n",
    "if resultados:\n",
    "    print(f\"La palabra clave '{palabra_clave}' se encuentra en los siguientes SOPs:\")\n",
    "    for documento in resultados:\n",
    "        print(documento)\n",
    "else:\n",
    "    print(f\"La palabra clave '{palabra_clave}' no se encontró en ningún SOP.\")"
   ]
  },
  {
   "cell_type": "markdown",
   "metadata": {},
   "source": [
    "Cromatografia liquida"
   ]
  },
  {
   "cell_type": "code",
   "execution_count": 10,
   "metadata": {},
   "outputs": [
    {
     "name": "stdout",
     "output_type": "stream",
     "text": [
      "La palabra clave ' Cromatografía liquida ' no se encontró en ningún SOP.\n"
     ]
    }
   ],
   "source": [
    "palabra_clave = \" Cromatografía liquida \"\n",
    "resultados = buscar_palabra_clave(df, palabra_clave)\n",
    "\n",
    "# Imprimir los resultados\n",
    "if resultados:\n",
    "    print(f\"La palabra clave '{palabra_clave}' se encuentra en los siguientes SOPs:\")\n",
    "    for documento in resultados:\n",
    "        print(documento)\n",
    "else:\n",
    "    print(f\"La palabra clave '{palabra_clave}' no se encontró en ningún SOP.\")"
   ]
  },
  {
   "cell_type": "markdown",
   "metadata": {},
   "source": [
    "Liquid Chromatography"
   ]
  },
  {
   "cell_type": "code",
   "execution_count": 11,
   "metadata": {},
   "outputs": [
    {
     "name": "stdout",
     "output_type": "stream",
     "text": [
      "La palabra clave ' Liquid Chromatography ' no se encontró en ningún SOP.\n"
     ]
    }
   ],
   "source": [
    "palabra_clave = \" Liquid Chromatography \"\n",
    "resultados = buscar_palabra_clave(df, palabra_clave)\n",
    "\n",
    "# Imprimir los resultados\n",
    "if resultados:\n",
    "    print(f\"La palabra clave '{palabra_clave}' se encuentra en los siguientes SOPs:\")\n",
    "    for documento in resultados:\n",
    "        print(documento)\n",
    "else:\n",
    "    print(f\"La palabra clave '{palabra_clave}' no se encontró en ningún SOP.\")"
   ]
  },
  {
   "cell_type": "markdown",
   "metadata": {},
   "source": [
    "Gas Chromatography"
   ]
  },
  {
   "cell_type": "code",
   "execution_count": 12,
   "metadata": {},
   "outputs": [
    {
     "name": "stdout",
     "output_type": "stream",
     "text": [
      "La palabra clave ' Chromatography ' se encuentra en los siguientes SOPs:\n",
      "T.03.03 - 80059353 Miristato de isopropilo\n"
     ]
    }
   ],
   "source": [
    "palabra_clave = \" Chromatography \"\n",
    "resultados = buscar_palabra_clave(df, palabra_clave)\n",
    "\n",
    "# Imprimir los resultados\n",
    "if resultados:\n",
    "    print(f\"La palabra clave '{palabra_clave}' se encuentra en los siguientes SOPs:\")\n",
    "    for documento in resultados:\n",
    "        print(documento)\n",
    "else:\n",
    "    print(f\"La palabra clave '{palabra_clave}' no se encontró en ningún SOP.\")"
   ]
  }
 ],
 "metadata": {
  "kernelspec": {
   "display_name": "Python 3",
   "language": "python",
   "name": "python3"
  },
  "language_info": {
   "codemirror_mode": {
    "name": "ipython",
    "version": 3
   },
   "file_extension": ".py",
   "mimetype": "text/x-python",
   "name": "python",
   "nbconvert_exporter": "python",
   "pygments_lexer": "ipython3",
   "version": "3.12.8"
  }
 },
 "nbformat": 4,
 "nbformat_minor": 2
}
